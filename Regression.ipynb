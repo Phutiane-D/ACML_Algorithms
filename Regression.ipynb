{
 "cells": [
  {
   "cell_type": "markdown",
   "metadata": {},
   "source": [
    "# Logistic Regression"
   ]
  },
  {
   "cell_type": "markdown",
   "metadata": {},
   "source": [
    "## Overiew"
   ]
  },
  {
   "cell_type": "markdown",
   "metadata": {},
   "source": [
    "project description here...<br/>\n",
    "project description here...<br/>\n",
    "project description here..."
   ]
  },
  {
   "cell_type": "markdown",
   "metadata": {},
   "source": [
    "## Contributors:  \n",
    "* Best – 000000   \n",
    "* Phutiane Donald Chipu– 2172765\n",
    "* Fankholoro Vincent Sebothoma – 1671848   "
   ]
  },
  {
   "cell_type": "markdown",
   "metadata": {},
   "source": [
    "# Import Libraries"
   ]
  },
  {
   "cell_type": "code",
   "execution_count": 2,
   "metadata": {},
   "outputs": [],
   "source": [
    "import numpy as np\n",
    "import matplotlib.pyplot as plt\n",
    "import pandas as pd\n",
    "import matplotlib.pyplot as plt\n",
    "from sklearn.preprocessing import LabelEncoder,OneHotEncoder,MinMaxScaler"
   ]
  },
  {
   "cell_type": "markdown",
   "metadata": {},
   "source": [
    "# Import the Dataset"
   ]
  },
  {
   "cell_type": "code",
   "execution_count": 26,
   "metadata": {},
   "outputs": [],
   "source": [
    "df = pd.read_csv('voice.csv')"
   ]
  },
  {
   "cell_type": "code",
   "execution_count": 41,
   "metadata": {},
   "outputs": [
    {
     "data": {
      "text/html": [
       "<div>\n",
       "<style scoped>\n",
       "    .dataframe tbody tr th:only-of-type {\n",
       "        vertical-align: middle;\n",
       "    }\n",
       "\n",
       "    .dataframe tbody tr th {\n",
       "        vertical-align: top;\n",
       "    }\n",
       "\n",
       "    .dataframe thead th {\n",
       "        text-align: right;\n",
       "    }\n",
       "</style>\n",
       "<table border=\"1\" class=\"dataframe\">\n",
       "  <thead>\n",
       "    <tr style=\"text-align: right;\">\n",
       "      <th></th>\n",
       "      <th>meanfreq</th>\n",
       "      <th>sd</th>\n",
       "      <th>median</th>\n",
       "      <th>Q25</th>\n",
       "      <th>Q75</th>\n",
       "      <th>IQR</th>\n",
       "      <th>skew</th>\n",
       "      <th>kurt</th>\n",
       "      <th>sp.ent</th>\n",
       "      <th>sfm</th>\n",
       "      <th>...</th>\n",
       "      <th>centroid</th>\n",
       "      <th>meanfun</th>\n",
       "      <th>minfun</th>\n",
       "      <th>maxfun</th>\n",
       "      <th>meandom</th>\n",
       "      <th>mindom</th>\n",
       "      <th>maxdom</th>\n",
       "      <th>dfrange</th>\n",
       "      <th>modindx</th>\n",
       "      <th>label</th>\n",
       "    </tr>\n",
       "  </thead>\n",
       "  <tbody>\n",
       "    <tr>\n",
       "      <th>0</th>\n",
       "      <td>0.141047</td>\n",
       "      <td>0.065363</td>\n",
       "      <td>0.109746</td>\n",
       "      <td>0.091653</td>\n",
       "      <td>0.201398</td>\n",
       "      <td>0.109746</td>\n",
       "      <td>2.902501</td>\n",
       "      <td>13.211780</td>\n",
       "      <td>0.927861</td>\n",
       "      <td>0.567241</td>\n",
       "      <td>...</td>\n",
       "      <td>0.141047</td>\n",
       "      <td>0.078778</td>\n",
       "      <td>0.017335</td>\n",
       "      <td>0.271186</td>\n",
       "      <td>0.105469</td>\n",
       "      <td>0.007812</td>\n",
       "      <td>0.140625</td>\n",
       "      <td>0.132812</td>\n",
       "      <td>0.145329</td>\n",
       "      <td>male</td>\n",
       "    </tr>\n",
       "    <tr>\n",
       "      <th>1</th>\n",
       "      <td>0.137206</td>\n",
       "      <td>0.075199</td>\n",
       "      <td>0.168463</td>\n",
       "      <td>0.056747</td>\n",
       "      <td>0.194790</td>\n",
       "      <td>0.138043</td>\n",
       "      <td>2.338022</td>\n",
       "      <td>9.498963</td>\n",
       "      <td>0.937677</td>\n",
       "      <td>0.609028</td>\n",
       "      <td>...</td>\n",
       "      <td>0.137206</td>\n",
       "      <td>0.168194</td>\n",
       "      <td>0.017241</td>\n",
       "      <td>0.275862</td>\n",
       "      <td>1.289509</td>\n",
       "      <td>0.007812</td>\n",
       "      <td>6.078125</td>\n",
       "      <td>6.070312</td>\n",
       "      <td>0.350571</td>\n",
       "      <td>male</td>\n",
       "    </tr>\n",
       "    <tr>\n",
       "      <th>2</th>\n",
       "      <td>0.185699</td>\n",
       "      <td>0.058112</td>\n",
       "      <td>0.175632</td>\n",
       "      <td>0.134713</td>\n",
       "      <td>0.238621</td>\n",
       "      <td>0.103908</td>\n",
       "      <td>1.464610</td>\n",
       "      <td>4.890700</td>\n",
       "      <td>0.902048</td>\n",
       "      <td>0.330360</td>\n",
       "      <td>...</td>\n",
       "      <td>0.185699</td>\n",
       "      <td>0.136466</td>\n",
       "      <td>0.047059</td>\n",
       "      <td>0.279070</td>\n",
       "      <td>1.119549</td>\n",
       "      <td>0.023438</td>\n",
       "      <td>6.328125</td>\n",
       "      <td>6.304688</td>\n",
       "      <td>0.129035</td>\n",
       "      <td>male</td>\n",
       "    </tr>\n",
       "    <tr>\n",
       "      <th>3</th>\n",
       "      <td>0.163313</td>\n",
       "      <td>0.064860</td>\n",
       "      <td>0.149954</td>\n",
       "      <td>0.111654</td>\n",
       "      <td>0.226986</td>\n",
       "      <td>0.115332</td>\n",
       "      <td>1.801984</td>\n",
       "      <td>6.461428</td>\n",
       "      <td>0.937649</td>\n",
       "      <td>0.577807</td>\n",
       "      <td>...</td>\n",
       "      <td>0.163313</td>\n",
       "      <td>0.101841</td>\n",
       "      <td>0.015656</td>\n",
       "      <td>0.266667</td>\n",
       "      <td>0.272518</td>\n",
       "      <td>0.007812</td>\n",
       "      <td>0.664062</td>\n",
       "      <td>0.656250</td>\n",
       "      <td>0.423810</td>\n",
       "      <td>male</td>\n",
       "    </tr>\n",
       "    <tr>\n",
       "      <th>4</th>\n",
       "      <td>0.174688</td>\n",
       "      <td>0.035405</td>\n",
       "      <td>0.168429</td>\n",
       "      <td>0.160276</td>\n",
       "      <td>0.185165</td>\n",
       "      <td>0.024889</td>\n",
       "      <td>3.954830</td>\n",
       "      <td>21.836228</td>\n",
       "      <td>0.839558</td>\n",
       "      <td>0.261354</td>\n",
       "      <td>...</td>\n",
       "      <td>0.174688</td>\n",
       "      <td>0.156155</td>\n",
       "      <td>0.016244</td>\n",
       "      <td>0.210526</td>\n",
       "      <td>0.430147</td>\n",
       "      <td>0.156250</td>\n",
       "      <td>4.640625</td>\n",
       "      <td>4.484375</td>\n",
       "      <td>0.117517</td>\n",
       "      <td>female</td>\n",
       "    </tr>\n",
       "    <tr>\n",
       "      <th>...</th>\n",
       "      <td>...</td>\n",
       "      <td>...</td>\n",
       "      <td>...</td>\n",
       "      <td>...</td>\n",
       "      <td>...</td>\n",
       "      <td>...</td>\n",
       "      <td>...</td>\n",
       "      <td>...</td>\n",
       "      <td>...</td>\n",
       "      <td>...</td>\n",
       "      <td>...</td>\n",
       "      <td>...</td>\n",
       "      <td>...</td>\n",
       "      <td>...</td>\n",
       "      <td>...</td>\n",
       "      <td>...</td>\n",
       "      <td>...</td>\n",
       "      <td>...</td>\n",
       "      <td>...</td>\n",
       "      <td>...</td>\n",
       "      <td>...</td>\n",
       "    </tr>\n",
       "    <tr>\n",
       "      <th>3163</th>\n",
       "      <td>0.185824</td>\n",
       "      <td>0.034470</td>\n",
       "      <td>0.182600</td>\n",
       "      <td>0.164302</td>\n",
       "      <td>0.206045</td>\n",
       "      <td>0.041743</td>\n",
       "      <td>2.213994</td>\n",
       "      <td>7.635987</td>\n",
       "      <td>0.872256</td>\n",
       "      <td>0.217081</td>\n",
       "      <td>...</td>\n",
       "      <td>0.185824</td>\n",
       "      <td>0.156298</td>\n",
       "      <td>0.016529</td>\n",
       "      <td>0.253968</td>\n",
       "      <td>0.676471</td>\n",
       "      <td>0.164062</td>\n",
       "      <td>5.000000</td>\n",
       "      <td>4.835938</td>\n",
       "      <td>0.167912</td>\n",
       "      <td>female</td>\n",
       "    </tr>\n",
       "    <tr>\n",
       "      <th>3164</th>\n",
       "      <td>0.208021</td>\n",
       "      <td>0.029698</td>\n",
       "      <td>0.207021</td>\n",
       "      <td>0.188777</td>\n",
       "      <td>0.228245</td>\n",
       "      <td>0.039468</td>\n",
       "      <td>1.776224</td>\n",
       "      <td>5.270964</td>\n",
       "      <td>0.838048</td>\n",
       "      <td>0.147100</td>\n",
       "      <td>...</td>\n",
       "      <td>0.208021</td>\n",
       "      <td>0.184892</td>\n",
       "      <td>0.051173</td>\n",
       "      <td>0.279070</td>\n",
       "      <td>1.591518</td>\n",
       "      <td>0.210938</td>\n",
       "      <td>8.109375</td>\n",
       "      <td>7.898438</td>\n",
       "      <td>0.062135</td>\n",
       "      <td>female</td>\n",
       "    </tr>\n",
       "    <tr>\n",
       "      <th>3165</th>\n",
       "      <td>0.161741</td>\n",
       "      <td>0.071971</td>\n",
       "      <td>0.166712</td>\n",
       "      <td>0.091187</td>\n",
       "      <td>0.229534</td>\n",
       "      <td>0.138347</td>\n",
       "      <td>22.497608</td>\n",
       "      <td>623.563096</td>\n",
       "      <td>0.915976</td>\n",
       "      <td>0.532476</td>\n",
       "      <td>...</td>\n",
       "      <td>0.161741</td>\n",
       "      <td>0.077557</td>\n",
       "      <td>0.016244</td>\n",
       "      <td>0.253968</td>\n",
       "      <td>0.085050</td>\n",
       "      <td>0.070312</td>\n",
       "      <td>0.664062</td>\n",
       "      <td>0.593750</td>\n",
       "      <td>0.050796</td>\n",
       "      <td>male</td>\n",
       "    </tr>\n",
       "    <tr>\n",
       "      <th>3166</th>\n",
       "      <td>0.221603</td>\n",
       "      <td>0.031396</td>\n",
       "      <td>0.225587</td>\n",
       "      <td>0.200081</td>\n",
       "      <td>0.244291</td>\n",
       "      <td>0.044211</td>\n",
       "      <td>1.572632</td>\n",
       "      <td>4.515449</td>\n",
       "      <td>0.834166</td>\n",
       "      <td>0.141048</td>\n",
       "      <td>...</td>\n",
       "      <td>0.221603</td>\n",
       "      <td>0.171238</td>\n",
       "      <td>0.047572</td>\n",
       "      <td>0.272727</td>\n",
       "      <td>2.957682</td>\n",
       "      <td>0.023438</td>\n",
       "      <td>11.179688</td>\n",
       "      <td>11.156250</td>\n",
       "      <td>0.130974</td>\n",
       "      <td>female</td>\n",
       "    </tr>\n",
       "    <tr>\n",
       "      <th>3167</th>\n",
       "      <td>0.190589</td>\n",
       "      <td>0.054310</td>\n",
       "      <td>0.201538</td>\n",
       "      <td>0.146538</td>\n",
       "      <td>0.237308</td>\n",
       "      <td>0.090769</td>\n",
       "      <td>1.464558</td>\n",
       "      <td>5.237955</td>\n",
       "      <td>0.917451</td>\n",
       "      <td>0.370395</td>\n",
       "      <td>...</td>\n",
       "      <td>0.190589</td>\n",
       "      <td>0.128651</td>\n",
       "      <td>0.047291</td>\n",
       "      <td>0.279070</td>\n",
       "      <td>1.570312</td>\n",
       "      <td>0.023438</td>\n",
       "      <td>6.585938</td>\n",
       "      <td>6.562500</td>\n",
       "      <td>0.142394</td>\n",
       "      <td>male</td>\n",
       "    </tr>\n",
       "  </tbody>\n",
       "</table>\n",
       "<p>3168 rows × 21 columns</p>\n",
       "</div>"
      ],
      "text/plain": [
       "      meanfreq        sd    median       Q25       Q75       IQR       skew  \\\n",
       "0     0.141047  0.065363  0.109746  0.091653  0.201398  0.109746   2.902501   \n",
       "1     0.137206  0.075199  0.168463  0.056747  0.194790  0.138043   2.338022   \n",
       "2     0.185699  0.058112  0.175632  0.134713  0.238621  0.103908   1.464610   \n",
       "3     0.163313  0.064860  0.149954  0.111654  0.226986  0.115332   1.801984   \n",
       "4     0.174688  0.035405  0.168429  0.160276  0.185165  0.024889   3.954830   \n",
       "...        ...       ...       ...       ...       ...       ...        ...   \n",
       "3163  0.185824  0.034470  0.182600  0.164302  0.206045  0.041743   2.213994   \n",
       "3164  0.208021  0.029698  0.207021  0.188777  0.228245  0.039468   1.776224   \n",
       "3165  0.161741  0.071971  0.166712  0.091187  0.229534  0.138347  22.497608   \n",
       "3166  0.221603  0.031396  0.225587  0.200081  0.244291  0.044211   1.572632   \n",
       "3167  0.190589  0.054310  0.201538  0.146538  0.237308  0.090769   1.464558   \n",
       "\n",
       "            kurt    sp.ent       sfm  ...  centroid   meanfun    minfun  \\\n",
       "0      13.211780  0.927861  0.567241  ...  0.141047  0.078778  0.017335   \n",
       "1       9.498963  0.937677  0.609028  ...  0.137206  0.168194  0.017241   \n",
       "2       4.890700  0.902048  0.330360  ...  0.185699  0.136466  0.047059   \n",
       "3       6.461428  0.937649  0.577807  ...  0.163313  0.101841  0.015656   \n",
       "4      21.836228  0.839558  0.261354  ...  0.174688  0.156155  0.016244   \n",
       "...          ...       ...       ...  ...       ...       ...       ...   \n",
       "3163    7.635987  0.872256  0.217081  ...  0.185824  0.156298  0.016529   \n",
       "3164    5.270964  0.838048  0.147100  ...  0.208021  0.184892  0.051173   \n",
       "3165  623.563096  0.915976  0.532476  ...  0.161741  0.077557  0.016244   \n",
       "3166    4.515449  0.834166  0.141048  ...  0.221603  0.171238  0.047572   \n",
       "3167    5.237955  0.917451  0.370395  ...  0.190589  0.128651  0.047291   \n",
       "\n",
       "        maxfun   meandom    mindom     maxdom    dfrange   modindx   label  \n",
       "0     0.271186  0.105469  0.007812   0.140625   0.132812  0.145329    male  \n",
       "1     0.275862  1.289509  0.007812   6.078125   6.070312  0.350571    male  \n",
       "2     0.279070  1.119549  0.023438   6.328125   6.304688  0.129035    male  \n",
       "3     0.266667  0.272518  0.007812   0.664062   0.656250  0.423810    male  \n",
       "4     0.210526  0.430147  0.156250   4.640625   4.484375  0.117517  female  \n",
       "...        ...       ...       ...        ...        ...       ...     ...  \n",
       "3163  0.253968  0.676471  0.164062   5.000000   4.835938  0.167912  female  \n",
       "3164  0.279070  1.591518  0.210938   8.109375   7.898438  0.062135  female  \n",
       "3165  0.253968  0.085050  0.070312   0.664062   0.593750  0.050796    male  \n",
       "3166  0.272727  2.957682  0.023438  11.179688  11.156250  0.130974  female  \n",
       "3167  0.279070  1.570312  0.023438   6.585938   6.562500  0.142394    male  \n",
       "\n",
       "[3168 rows x 21 columns]"
      ]
     },
     "execution_count": 41,
     "metadata": {},
     "output_type": "execute_result"
    }
   ],
   "source": [
    "df = df.sample(frac=1).reset_index(drop=True)\n",
    "df"
   ]
  },
  {
   "cell_type": "markdown",
   "metadata": {},
   "source": [
    "## Trimming the Data\n",
    "The Data is unbiased, so we don't need to trim it."
   ]
  },
  {
   "cell_type": "code",
   "execution_count": 13,
   "metadata": {},
   "outputs": [
    {
     "name": "stdout",
     "output_type": "stream",
     "text": [
      "dataset:  (3168, 21)\n",
      "male:     (1584, 21)\n",
      "female:   (1584, 21)\n"
     ]
    }
   ],
   "source": [
    "df_male = df[df['label']=='male']\n",
    "df_female = df[df['label']=='female']\n",
    "print('dataset: ',df.shape)\n",
    "print('male:    ',df_male.shape)\n",
    "print('female:  ',df_female.shape)"
   ]
  },
  {
   "cell_type": "markdown",
   "metadata": {},
   "source": [
    "## Feature Scaling"
   ]
  },
  {
   "cell_type": "code",
   "execution_count": null,
   "metadata": {},
   "outputs": [],
   "source": []
  },
  {
   "cell_type": "markdown",
   "metadata": {},
   "source": [
    "## Splitting the Dataset into Training, Validation and Test set"
   ]
  },
  {
   "cell_type": "markdown",
   "metadata": {},
   "source": [
    "#### Training data (60% of the data)"
   ]
  },
  {
   "cell_type": "code",
   "execution_count": 44,
   "metadata": {},
   "outputs": [
    {
     "name": "stdout",
     "output_type": "stream",
     "text": [
      "(1900, 21)\n"
     ]
    }
   ],
   "source": [
    "# trining dataset\n",
    "train_data = df.iloc[:1900:]\n",
    "print(train_data.shape)\n",
    "\n",
    "# training features\n",
    "train_features = train_data.iloc[:,:-1].values\n",
    "\n",
    "# training targets\n",
    "train_targets = train_data.iloc[:,-1].values"
   ]
  },
  {
   "cell_type": "markdown",
   "metadata": {},
   "source": [
    "#### Testing data (20% of the data)"
   ]
  },
  {
   "cell_type": "code",
   "execution_count": 45,
   "metadata": {},
   "outputs": [
    {
     "name": "stdout",
     "output_type": "stream",
     "text": [
      "(634, 21)\n"
     ]
    }
   ],
   "source": [
    "# testing dataset\n",
    "test_data = df.iloc[2534::]\n",
    "print(test_data.shape)\n",
    "\n",
    "# testing features\n",
    "test_features = test_data.iloc[:,:-1].values\n",
    "\n",
    "# testing targets\n",
    "test_targets = test_data.iloc[:,-1].values"
   ]
  },
  {
   "cell_type": "markdown",
   "metadata": {},
   "source": [
    "#### Validation data (20% of the data)"
   ]
  },
  {
   "cell_type": "code",
   "execution_count": 46,
   "metadata": {},
   "outputs": [
    {
     "name": "stdout",
     "output_type": "stream",
     "text": [
      "(634, 21)\n"
     ]
    }
   ],
   "source": [
    "# validation dataset\n",
    "validate_data = df.iloc[1900:2534:]\n",
    "print(validate_data.shape)\n",
    "\n",
    "# validation features\n",
    "validate_features = validate_data.iloc[:,:-1].values\n",
    "\n",
    "# validation targets\n",
    "validate_targets = validate_data.iloc[:,-1].values\n"
   ]
  },
  {
   "cell_type": "markdown",
   "metadata": {},
   "source": [
    "## Training the model"
   ]
  },
  {
   "cell_type": "markdown",
   "metadata": {},
   "source": [
    "### 1. Logistic Regression"
   ]
  },
  {
   "cell_type": "markdown",
   "metadata": {},
   "source": [
    "### 2. Logistic Regression with Gradient des"
   ]
  },
  {
   "cell_type": "markdown",
   "metadata": {},
   "source": [
    "### 3. Logistic Regression"
   ]
  },
  {
   "cell_type": "code",
   "execution_count": null,
   "metadata": {},
   "outputs": [],
   "source": []
  },
  {
   "cell_type": "markdown",
   "metadata": {},
   "source": [
    "## Predicting the Test Results"
   ]
  },
  {
   "cell_type": "code",
   "execution_count": null,
   "metadata": {},
   "outputs": [],
   "source": []
  },
  {
   "cell_type": "markdown",
   "metadata": {},
   "source": [
    "## Analyzing the Accuracy of the Model"
   ]
  },
  {
   "cell_type": "code",
   "execution_count": null,
   "metadata": {},
   "outputs": [],
   "source": []
  },
  {
   "cell_type": "markdown",
   "metadata": {},
   "source": [
    "## Visualizing Set Results"
   ]
  },
  {
   "cell_type": "code",
   "execution_count": null,
   "metadata": {},
   "outputs": [],
   "source": []
  }
 ],
 "metadata": {
  "kernelspec": {
   "display_name": "Python 3",
   "language": "python",
   "name": "python3"
  },
  "language_info": {
   "codemirror_mode": {
    "name": "ipython",
    "version": 3
   },
   "file_extension": ".py",
   "mimetype": "text/x-python",
   "name": "python",
   "nbconvert_exporter": "python",
   "pygments_lexer": "ipython3",
   "version": "3.8.3"
  }
 },
 "nbformat": 4,
 "nbformat_minor": 4
}
